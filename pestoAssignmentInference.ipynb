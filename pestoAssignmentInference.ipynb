{
  "nbformat": 4,
  "nbformat_minor": 0,
  "metadata": {
    "colab": {
      "provenance": [],
      "gpuType": "T4",
      "include_colab_link": true
    },
    "kernelspec": {
      "name": "python3",
      "display_name": "Python 3"
    },
    "language_info": {
      "name": "python"
    },
    "accelerator": "GPU"
  },
  "cells": [
    {
      "cell_type": "markdown",
      "metadata": {
        "id": "view-in-github",
        "colab_type": "text"
      },
      "source": [
        "<a href=\"https://colab.research.google.com/github/fuzailpalnak/pestoAssignment/blob/main/pestoAssignmentInference.ipynb\" target=\"_parent\"><img src=\"https://colab.research.google.com/assets/colab-badge.svg\" alt=\"Open In Colab\"/></a>"
      ]
    },
    {
      "cell_type": "code",
      "source": [
        "! pip install datasets\n",
        "! pip install accelerate==0.31.0"
      ],
      "metadata": {
        "id": "S_VNSLTCWsXM"
      },
      "execution_count": null,
      "outputs": []
    },
    {
      "cell_type": "code",
      "source": [
        "from transformers import EncoderDecoderModel, BertTokenizer"
      ],
      "metadata": {
        "id": "RgzxNaRdOQwz"
      },
      "execution_count": 3,
      "outputs": []
    },
    {
      "cell_type": "code",
      "source": [
        "from google.colab import drive\n",
        "drive.mount('/content/drive')"
      ],
      "metadata": {
        "id": "TWauP17Z9H_0",
        "colab": {
          "base_uri": "https://localhost:8080/"
        },
        "outputId": "a13c2707-d918-48ae-c306-4ae8f2e4a2a0"
      },
      "execution_count": 4,
      "outputs": [
        {
          "output_type": "stream",
          "name": "stdout",
          "text": [
            "Drive already mounted at /content/drive; to attempt to forcibly remount, call drive.mount(\"/content/drive\", force_remount=True).\n"
          ]
        }
      ]
    },
    {
      "cell_type": "code",
      "source": [
        "import requests\n",
        "import zipfile\n",
        "import io\n",
        "import os\n",
        "\n",
        "# Define the URL of the ZIP file\n",
        "url = 'https://github.com/fuzailpalnak/pestoAssignment/releases/download/v0.0.1/saved_model.zip'\n",
        "\n",
        "# Download the ZIP file into memory\n",
        "response = requests.get(url)\n",
        "if response.status_code == 200:\n",
        "    # Create a BytesIO object from the response content\n",
        "    zip_file = io.BytesIO(response.content)\n",
        "\n",
        "    # Extract the ZIP file into a temporary directory\n",
        "    with zipfile.ZipFile(zip_file, 'r') as zip_ref:\n",
        "        temp_dir = '/content'\n",
        "        zip_ref.extractall(temp_dir)"
      ],
      "metadata": {
        "id": "AmVxndAT9SQa"
      },
      "execution_count": 7,
      "outputs": []
    },
    {
      "cell_type": "code",
      "source": [
        "test_query = \"I accidently order the wrong product\""
      ],
      "metadata": {
        "id": "Wa3RSxe1OCuK"
      },
      "execution_count": 8,
      "outputs": []
    },
    {
      "cell_type": "code",
      "source": [
        "# Load model and tokenizer for prediction\n",
        "loaded_tokenizer = BertTokenizer.from_pretrained(\"/content/saved_model\")\n",
        "loaded_model = EncoderDecoderModel.from_pretrained(\"/content/saved_model\")\n",
        "\n",
        "# Ensure the loaded model has the correct configuration\n",
        "loaded_model.generation_config.pad_token_id = loaded_tokenizer.pad_token_id\n",
        "loaded_model.generation_config.eos_token_id = loaded_tokenizer.sep_token_id\n",
        "loaded_model.generation_config.decoder_start_token_id = loaded_tokenizer.cls_token_id\n",
        "\n",
        "t = BertTokenizer.from_pretrained('bert-base-uncased')\n",
        "# Function to generate response\n",
        "def generate_response(query):\n",
        "    inputs = loaded_tokenizer(query, return_tensors=\"pt\", truncation=True, padding=True, max_length=128)\n",
        "    output_ids = loaded_model.generate(inputs.input_ids, max_length=128)\n",
        "    return loaded_tokenizer.decode(output_ids[0], skip_special_tokens=True)\n",
        "\n",
        "# Test the loaded model\n",
        "test_query = \"I accidently order the wrong product\"\n",
        "print(f\"Query: {test_query}\")\n",
        "print(f\"Response: {generate_response(test_query)}\")"
      ],
      "metadata": {
        "id": "3TSkQKdtARMd"
      },
      "execution_count": null,
      "outputs": []
    },
    {
      "cell_type": "code",
      "source": [
        "while True:\n",
        "    user_input = input(\"Enter Query\")\n",
        "    if user_input.lower()==\"exit\":\n",
        "      break\n",
        "    print(generate_response(user_input))\n"
      ],
      "metadata": {
        "id": "b8sCPRW0NmIc"
      },
      "execution_count": null,
      "outputs": []
    }
  ]
}