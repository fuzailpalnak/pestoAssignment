{
  "nbformat": 4,
  "nbformat_minor": 0,
  "metadata": {
    "colab": {
      "provenance": [],
      "gpuType": "T4",
      "authorship_tag": "ABX9TyNYMUA6EcOXw4nEhj3lbk0a",
      "include_colab_link": true
    },
    "kernelspec": {
      "name": "python3",
      "display_name": "Python 3"
    },
    "language_info": {
      "name": "python"
    },
    "accelerator": "GPU"
  },
  "cells": [
    {
      "cell_type": "markdown",
      "metadata": {
        "id": "view-in-github",
        "colab_type": "text"
      },
      "source": [
        "<a href=\"https://colab.research.google.com/github/fuzailpalnak/pestoAssignment/blob/main/pestoAssignmentInference.ipynb\" target=\"_parent\"><img src=\"https://colab.research.google.com/assets/colab-badge.svg\" alt=\"Open In Colab\"/></a>"
      ]
    },
    {
      "cell_type": "code",
      "source": [
        "! pip install datasets\n",
        "! pip install accelerate==0.31.0"
      ],
      "metadata": {
        "id": "S_VNSLTCWsXM"
      },
      "execution_count": null,
      "outputs": []
    },
    {
      "cell_type": "code",
      "source": [
        "from transformers import EncoderDecoderModel, BertTokenizer"
      ],
      "metadata": {
        "id": "RgzxNaRdOQwz"
      },
      "execution_count": null,
      "outputs": []
    },
    {
      "cell_type": "code",
      "source": [
        "from google.colab import drive\n",
        "drive.mount('/content/drive')"
      ],
      "metadata": {
        "id": "TWauP17Z9H_0"
      },
      "execution_count": null,
      "outputs": []
    },
    {
      "cell_type": "code",
      "source": [
        "test_query = \"I accidently order the wrong product\""
      ],
      "metadata": {
        "id": "Wa3RSxe1OCuK"
      },
      "execution_count": null,
      "outputs": []
    },
    {
      "cell_type": "code",
      "source": [
        "# Load model and tokenizer for prediction\n",
        "loaded_tokenizer = BertTokenizer.from_pretrained(\"/content/saved_model\")\n",
        "loaded_model = EncoderDecoderModel.from_pretrained(\"/content/saved_model\")\n",
        "\n",
        "# Ensure the loaded model has the correct configuration\n",
        "loaded_model.generation_config.pad_token_id = loaded_tokenizer.pad_token_id\n",
        "loaded_model.generation_config.eos_token_id = loaded_tokenizer.sep_token_id\n",
        "loaded_model.generation_config.decoder_start_token_id = loaded_tokenizer.cls_token_id\n",
        "\n",
        "t = BertTokenizer.from_pretrained('bert-base-uncased')\n",
        "# Function to generate response\n",
        "def generate_response(query):\n",
        "    inputs = loaded_tokenizer(query, return_tensors=\"pt\", truncation=True, padding=True, max_length=128)\n",
        "    output_ids = loaded_model.generate(inputs.input_ids, max_length=128)\n",
        "    return loaded_tokenizer.decode(output_ids[0], skip_special_tokens=True)\n",
        "\n",
        "# Test the loaded model\n",
        "test_query = \"I accidently order the wrong product\"\n",
        "print(f\"Query: {test_query}\")\n",
        "print(f\"Response: {generate_response(test_query)}\")"
      ],
      "metadata": {
        "id": "3TSkQKdtARMd"
      },
      "execution_count": null,
      "outputs": []
    },
    {
      "cell_type": "code",
      "source": [],
      "metadata": {
        "id": "b8sCPRW0NmIc"
      },
      "execution_count": null,
      "outputs": []
    }
  ]
}